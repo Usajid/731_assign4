{
 "cells": [
  {
   "cell_type": "markdown",
   "metadata": {},
   "source": [
    "# Major Leagues Assignment # 04\n",
    "---"
   ]
  },
  {
   "cell_type": "code",
   "execution_count": 21,
   "metadata": {},
   "outputs": [
    {
     "name": "stdout",
     "output_type": "stream",
     "text": [
      "CPU times: user 2.63 ms, sys: 0 ns, total: 2.63 ms\n",
      "Wall time: 2.32 ms\n"
     ]
    }
   ],
   "source": [
    "%%time\n",
    "\n",
    "# Importing all modules necessary as per required\n",
    "import matplotlib.pyplot as plt\n",
    "import seaborn as sns\n",
    "import pandas as pd\n",
    "import numpy as np\n",
    "\n",
    "# Import Regressors and the evaluation modules\n",
    "from sklearn.model_selection import train_test_split\n",
    "from sklearn.linear_model import LogisticRegression\n",
    "from sklearn.ensemble import RandomForestClassifier\n",
    "from sklearn.metrics import accuracy_score\n",
    "from sklearn.metrics import mean_absolute_error\n",
    "from sklearn.metrics import mean_squared_error\n",
    "from sklearn.multioutput import MultiOutputRegressor\n",
    "from sklearn.ensemble import RandomForestRegressor\n",
    "from sklearn.ensemble import AdaBoostRegressor\n",
    "from sklearn.linear_model import LinearRegression\n",
    "from xgboost import XGBRegressor\n",
    "\n",
    "sns.set (color_codes = True)\n",
    "\n",
    "# For plotting inline\n",
    "%matplotlib inline"
   ]
  },
  {
   "cell_type": "markdown",
   "metadata": {},
   "source": [
    "## Loading the NFL Data\n",
    "---\n",
    "For this task, I have selected the NFL games dataset for the exploration and regression based modeling. First, loading data into Pandas Dataframe and viewing first 5 rows to get rough idea about the dataset."
   ]
  },
  {
   "cell_type": "code",
   "execution_count": 22,
   "metadata": {},
   "outputs": [
    {
     "data": {
      "text/html": [
       "<div>\n",
       "<style scoped>\n",
       "    .dataframe tbody tr th:only-of-type {\n",
       "        vertical-align: middle;\n",
       "    }\n",
       "\n",
       "    .dataframe tbody tr th {\n",
       "        vertical-align: top;\n",
       "    }\n",
       "\n",
       "    .dataframe thead th {\n",
       "        text-align: right;\n",
       "    }\n",
       "</style>\n",
       "<table border=\"1\" class=\"dataframe\">\n",
       "  <thead>\n",
       "    <tr style=\"text-align: right;\">\n",
       "      <th></th>\n",
       "      <th>date</th>\n",
       "      <th>season</th>\n",
       "      <th>neutral</th>\n",
       "      <th>playoff</th>\n",
       "      <th>team1</th>\n",
       "      <th>team2</th>\n",
       "      <th>elo1</th>\n",
       "      <th>elo2</th>\n",
       "      <th>elo_prob1</th>\n",
       "      <th>score1</th>\n",
       "      <th>score2</th>\n",
       "      <th>result1</th>\n",
       "    </tr>\n",
       "  </thead>\n",
       "  <tbody>\n",
       "    <tr>\n",
       "      <th>0</th>\n",
       "      <td>1920-09-26</td>\n",
       "      <td>1920</td>\n",
       "      <td>0</td>\n",
       "      <td>0</td>\n",
       "      <td>RII</td>\n",
       "      <td>STP</td>\n",
       "      <td>1503.947</td>\n",
       "      <td>1300.000</td>\n",
       "      <td>0.824651</td>\n",
       "      <td>48</td>\n",
       "      <td>0</td>\n",
       "      <td>1.0</td>\n",
       "    </tr>\n",
       "    <tr>\n",
       "      <th>1</th>\n",
       "      <td>1920-10-03</td>\n",
       "      <td>1920</td>\n",
       "      <td>0</td>\n",
       "      <td>0</td>\n",
       "      <td>AKR</td>\n",
       "      <td>WHE</td>\n",
       "      <td>1503.420</td>\n",
       "      <td>1300.000</td>\n",
       "      <td>0.824212</td>\n",
       "      <td>43</td>\n",
       "      <td>0</td>\n",
       "      <td>1.0</td>\n",
       "    </tr>\n",
       "    <tr>\n",
       "      <th>2</th>\n",
       "      <td>1920-10-03</td>\n",
       "      <td>1920</td>\n",
       "      <td>0</td>\n",
       "      <td>0</td>\n",
       "      <td>RCH</td>\n",
       "      <td>ABU</td>\n",
       "      <td>1503.420</td>\n",
       "      <td>1300.000</td>\n",
       "      <td>0.824212</td>\n",
       "      <td>10</td>\n",
       "      <td>0</td>\n",
       "      <td>1.0</td>\n",
       "    </tr>\n",
       "    <tr>\n",
       "      <th>3</th>\n",
       "      <td>1920-10-03</td>\n",
       "      <td>1920</td>\n",
       "      <td>0</td>\n",
       "      <td>0</td>\n",
       "      <td>DAY</td>\n",
       "      <td>COL</td>\n",
       "      <td>1493.002</td>\n",
       "      <td>1504.908</td>\n",
       "      <td>0.575819</td>\n",
       "      <td>14</td>\n",
       "      <td>0</td>\n",
       "      <td>1.0</td>\n",
       "    </tr>\n",
       "    <tr>\n",
       "      <th>4</th>\n",
       "      <td>1920-10-03</td>\n",
       "      <td>1920</td>\n",
       "      <td>0</td>\n",
       "      <td>0</td>\n",
       "      <td>RII</td>\n",
       "      <td>MUN</td>\n",
       "      <td>1516.108</td>\n",
       "      <td>1478.004</td>\n",
       "      <td>0.644171</td>\n",
       "      <td>45</td>\n",
       "      <td>0</td>\n",
       "      <td>1.0</td>\n",
       "    </tr>\n",
       "  </tbody>\n",
       "</table>\n",
       "</div>"
      ],
      "text/plain": [
       "        date  season  neutral  playoff team1 team2      elo1      elo2  \\\n",
       "0 1920-09-26    1920        0        0   RII   STP  1503.947  1300.000   \n",
       "1 1920-10-03    1920        0        0   AKR   WHE  1503.420  1300.000   \n",
       "2 1920-10-03    1920        0        0   RCH   ABU  1503.420  1300.000   \n",
       "3 1920-10-03    1920        0        0   DAY   COL  1493.002  1504.908   \n",
       "4 1920-10-03    1920        0        0   RII   MUN  1516.108  1478.004   \n",
       "\n",
       "   elo_prob1  score1  score2  result1  \n",
       "0   0.824651      48       0      1.0  \n",
       "1   0.824212      43       0      1.0  \n",
       "2   0.824212      10       0      1.0  \n",
       "3   0.575819      14       0      1.0  \n",
       "4   0.644171      45       0      1.0  "
      ]
     },
     "execution_count": 22,
     "metadata": {},
     "output_type": "execute_result"
    }
   ],
   "source": [
    "game_df = pd.read_csv (\"../data/nfl_games.csv\", parse_dates = ['date'], dtype = {'season': np.int32, 'neutral': np.int32, 'playoff': np.int32, 'score1': np.int32, 'score2': np.int32})\n",
    "game_df.head ()"
   ]
  },
  {
   "cell_type": "markdown",
   "metadata": {},
   "source": [
    "## Feature Engineering - New Column Match Addition\n",
    "---\n",
    "New column  \"match\", indicating two teams playing the match, is being created. This new feature may prove helpful later on during modeling part."
   ]
  },
  {
   "cell_type": "code",
   "execution_count": 23,
   "metadata": {},
   "outputs": [],
   "source": [
    "game_df['match'] = game_df['team1'] + '-' + game_df['team2']"
   ]
  },
  {
   "cell_type": "markdown",
   "metadata": {},
   "source": [
    "## Feature Engineering - Streaks and Versus History\n",
    "---\n",
    "For the match outcome prediction, one helpful way is to take into account the \"current form\" of both teams and their match history in previous encounters against each other. Those are captured by the streak and the prev_result1 features respectively. Both these features using following functions."
   ]
  },
  {
   "cell_type": "code",
   "execution_count": 24,
   "metadata": {},
   "outputs": [
    {
     "name": "stdout",
     "output_type": "stream",
     "text": [
      "CPU times: user 2min 52s, sys: 104 ms, total: 2min 52s\n",
      "Wall time: 2min 52s\n"
     ]
    }
   ],
   "source": [
    "%%time\n",
    "pd.options.mode.chained_assignment = None\n",
    "\n",
    "def get_last_matches (db, team, date, x = 5):\n",
    "    ''' Return the last x matches for the input team '''\n",
    "    \n",
    "    # Filter team matches from matches\n",
    "    team_matches = db [(db ['team1'] == team) | (db ['team2'] == team)]\n",
    "                           \n",
    "    # Filter x last matches from team matches\n",
    "    last_matches = team_matches [team_matches.date < date].sort_values (by = 'date', ascending = False).iloc[0:x,:]\n",
    "    \n",
    "    # Return last matches\n",
    "    return last_matches\n",
    "\n",
    "def get_last_match_against (db, team1, team2, date, x = 5):\n",
    "    ''' Get the last x matches of a given team against another team '''\n",
    "    \n",
    "    # Filter team matches from matches\n",
    "    team_matches = db [(db ['match'] == '-'.join ([team1, team2])) | (db ['match'] == '-'.join ([team2, team1]))]\n",
    "    team_matches ['result2'] = 1 - team_matches ['result1']\n",
    "                           \n",
    "    # Filter x last matches from vs matches\n",
    "    last_matches = team_matches [team_matches.date < date].sort_values (by = 'date', ascending = False).iloc[0:x,:]\n",
    "    \n",
    "    team1_wins_as_team1 = last_matches [last_matches ['team1'] == team1]['result1'].sum ()\n",
    "    team1_wins_as_team2 = last_matches [last_matches ['team2'] == team1]['result2'].sum ()\n",
    "    team1_wins = team1_wins_as_team1 + team1_wins_as_team2\n",
    "    \n",
    "    # Return last matches\n",
    "    return team1_wins\n",
    "\n",
    "game_df ['prev_result1'] = game_df.apply (lambda x: get_last_match_against (game_df, x ['team1'], x ['team2'], x ['date']), axis = 1)"
   ]
  },
  {
   "cell_type": "code",
   "execution_count": 25,
   "metadata": {},
   "outputs": [
    {
     "name": "stdout",
     "output_type": "stream",
     "text": [
      "CPU times: user 3min 5s, sys: 87.9 ms, total: 3min 5s\n",
      "Wall time: 3min 5s\n"
     ]
    }
   ],
   "source": [
    "%%time\n",
    "\n",
    "\n",
    "def get_streak (db, team, date, x = 5):\n",
    "    match_history = get_last_matches (db, team, date, x)\n",
    "    match_history ['result2'] = 1 - match_history ['result1']\n",
    "    match_history ['result1'] = match_history ['result1'].apply (np.ceil)\n",
    "    match_history ['result2'] = match_history ['result2'].apply (np.ceil)\n",
    "   \n",
    "    result_as_team1 = match_history [match_history ['team1'] == team]['result1'].sum ()\n",
    "    result_as_team2 = match_history [match_history ['team2'] == team]['result2'].sum ()\n",
    "    result = result_as_team1 + result_as_team2\n",
    "    \n",
    "    if result == x:\n",
    "        return 1\n",
    "    else:\n",
    "        return 0\n",
    "\n",
    "game_df ['streak1'] = game_df.apply (lambda x: get_streak (game_df, x ['team1'], x ['date']), axis = 1)"
   ]
  },
  {
   "cell_type": "code",
   "execution_count": 26,
   "metadata": {},
   "outputs": [
    {
     "name": "stdout",
     "output_type": "stream",
     "text": [
      "CPU times: user 3min 13s, sys: 99.9 ms, total: 3min 14s\n",
      "Wall time: 3min 14s\n"
     ]
    }
   ],
   "source": [
    "%%time\n",
    "game_df ['streak2'] = game_df.apply (lambda x: get_streak (game_df, x ['team2'], x ['date']), axis = 1)"
   ]
  },
  {
   "cell_type": "markdown",
   "metadata": {},
   "source": [
    "## Further Data Cleanup - Factorization and Dropping Redundant/Irrelevant Features\n",
    "---\n",
    "Since regressors usually work better with numbers, so I am factorizing few categorical features to make them usable for the regression based modeling later. Also, I drop few irrelevant features."
   ]
  },
  {
   "cell_type": "code",
   "execution_count": 27,
   "metadata": {},
   "outputs": [
    {
     "data": {
      "text/html": [
       "<div>\n",
       "<style scoped>\n",
       "    .dataframe tbody tr th:only-of-type {\n",
       "        vertical-align: middle;\n",
       "    }\n",
       "\n",
       "    .dataframe tbody tr th {\n",
       "        vertical-align: top;\n",
       "    }\n",
       "\n",
       "    .dataframe thead th {\n",
       "        text-align: right;\n",
       "    }\n",
       "</style>\n",
       "<table border=\"1\" class=\"dataframe\">\n",
       "  <thead>\n",
       "    <tr style=\"text-align: right;\">\n",
       "      <th></th>\n",
       "      <th>date</th>\n",
       "      <th>neutral</th>\n",
       "      <th>playoff</th>\n",
       "      <th>team1</th>\n",
       "      <th>team2</th>\n",
       "      <th>score1</th>\n",
       "      <th>score2</th>\n",
       "      <th>result1</th>\n",
       "      <th>match</th>\n",
       "      <th>prev_result1</th>\n",
       "      <th>streak1</th>\n",
       "      <th>streak2</th>\n",
       "      <th>matchId</th>\n",
       "      <th>team1Id</th>\n",
       "      <th>team2Id</th>\n",
       "    </tr>\n",
       "  </thead>\n",
       "  <tbody>\n",
       "    <tr>\n",
       "      <th>16002</th>\n",
       "      <td>2018-01-14</td>\n",
       "      <td>0</td>\n",
       "      <td>1</td>\n",
       "      <td>PIT</td>\n",
       "      <td>JAX</td>\n",
       "      <td>42</td>\n",
       "      <td>45</td>\n",
       "      <td>0</td>\n",
       "      <td>PIT-JAX</td>\n",
       "      <td>3.0</td>\n",
       "      <td>0</td>\n",
       "      <td>0</td>\n",
       "      <td>1411</td>\n",
       "      <td>61</td>\n",
       "      <td>105</td>\n",
       "    </tr>\n",
       "    <tr>\n",
       "      <th>16003</th>\n",
       "      <td>2018-01-14</td>\n",
       "      <td>0</td>\n",
       "      <td>1</td>\n",
       "      <td>MIN</td>\n",
       "      <td>NO</td>\n",
       "      <td>29</td>\n",
       "      <td>24</td>\n",
       "      <td>1</td>\n",
       "      <td>MIN-NO</td>\n",
       "      <td>1.0</td>\n",
       "      <td>0</td>\n",
       "      <td>0</td>\n",
       "      <td>972</td>\n",
       "      <td>90</td>\n",
       "      <td>100</td>\n",
       "    </tr>\n",
       "    <tr>\n",
       "      <th>16004</th>\n",
       "      <td>2018-01-21</td>\n",
       "      <td>0</td>\n",
       "      <td>1</td>\n",
       "      <td>NE</td>\n",
       "      <td>JAX</td>\n",
       "      <td>24</td>\n",
       "      <td>20</td>\n",
       "      <td>1</td>\n",
       "      <td>NE-JAX</td>\n",
       "      <td>5.0</td>\n",
       "      <td>0</td>\n",
       "      <td>0</td>\n",
       "      <td>1431</td>\n",
       "      <td>81</td>\n",
       "      <td>105</td>\n",
       "    </tr>\n",
       "    <tr>\n",
       "      <th>16005</th>\n",
       "      <td>2018-01-21</td>\n",
       "      <td>0</td>\n",
       "      <td>1</td>\n",
       "      <td>PHI</td>\n",
       "      <td>MIN</td>\n",
       "      <td>38</td>\n",
       "      <td>7</td>\n",
       "      <td>1</td>\n",
       "      <td>PHI-MIN</td>\n",
       "      <td>3.0</td>\n",
       "      <td>0</td>\n",
       "      <td>0</td>\n",
       "      <td>866</td>\n",
       "      <td>63</td>\n",
       "      <td>97</td>\n",
       "    </tr>\n",
       "    <tr>\n",
       "      <th>16006</th>\n",
       "      <td>2018-02-04</td>\n",
       "      <td>1</td>\n",
       "      <td>1</td>\n",
       "      <td>NE</td>\n",
       "      <td>PHI</td>\n",
       "      <td>33</td>\n",
       "      <td>41</td>\n",
       "      <td>0</td>\n",
       "      <td>NE-PHI</td>\n",
       "      <td>4.0</td>\n",
       "      <td>1</td>\n",
       "      <td>0</td>\n",
       "      <td>1288</td>\n",
       "      <td>81</td>\n",
       "      <td>70</td>\n",
       "    </tr>\n",
       "  </tbody>\n",
       "</table>\n",
       "</div>"
      ],
      "text/plain": [
       "            date  neutral  playoff team1 team2  score1  score2  result1  \\\n",
       "16002 2018-01-14        0        1   PIT   JAX      42      45        0   \n",
       "16003 2018-01-14        0        1   MIN    NO      29      24        1   \n",
       "16004 2018-01-21        0        1    NE   JAX      24      20        1   \n",
       "16005 2018-01-21        0        1   PHI   MIN      38       7        1   \n",
       "16006 2018-02-04        1        1    NE   PHI      33      41        0   \n",
       "\n",
       "         match  prev_result1  streak1  streak2  matchId  team1Id  team2Id  \n",
       "16002  PIT-JAX           3.0        0        0     1411       61      105  \n",
       "16003   MIN-NO           1.0        0        0      972       90      100  \n",
       "16004   NE-JAX           5.0        0        0     1431       81      105  \n",
       "16005  PHI-MIN           3.0        0        0      866       63       97  \n",
       "16006   NE-PHI           4.0        1        0     1288       81       70  "
      ]
     },
     "execution_count": 27,
     "metadata": {},
     "output_type": "execute_result"
    }
   ],
   "source": [
    "#Factorizing few important Features Columns\n",
    "game_df ['matchId'] = game_df ['match'].factorize () [0]\n",
    "game_df ['result1'] = game_df ['result1'].apply (np.int32)\n",
    "\n",
    "game_df ['team1Id'] = game_df ['team1'].factorize () [0]\n",
    "game_df ['team2Id'] = game_df ['team2'].factorize () [0]\n",
    "\n",
    "game_df = game_df.drop (['season', 'elo1', 'elo2', 'elo_prob1'], axis = 1)\n",
    "\n",
    "game_df.tail ()"
   ]
  },
  {
   "cell_type": "markdown",
   "metadata": {},
   "source": [
    "## Regressing the Scores for Both Teams - MultiOutputRegressor\n",
    "---\n",
    "Since we require two outputs (scores of both teams) from our regression model, so I am using MultiOutputRegressor from scikit-learn library. MultiOutputRegressor will use any standard scikit-learn single output regressor twice to output the required two outputs. So, we can use e.g. Random Forest Regressor in MultiOutputRegressor to get multi output based regression. For this task, I am using the score1 and score2 as the outcome to be predicted by the regressor. First separating features and targets, and also removing a number of other irrelevant columns/features from our data table. After this step, our data are ready for modeling."
   ]
  },
  {
   "cell_type": "code",
   "execution_count": 28,
   "metadata": {},
   "outputs": [
    {
     "data": {
      "text/plain": [
       "(16007, 8)"
      ]
     },
     "execution_count": 28,
     "metadata": {},
     "output_type": "execute_result"
    }
   ],
   "source": [
    "labels = np.array ([game_df ['score1'],game_df ['score2']]).T\n",
    "features = game_df.drop (['date', 'score1', 'score2','match','team1','team2','matchId'], axis = 1)\n",
    "feature_names = list (features.columns)\n",
    "features = np.array (features)\n",
    "features.shape"
   ]
  },
  {
   "cell_type": "markdown",
   "metadata": {},
   "source": [
    "Next, we do training/testing split of 80/20 split."
   ]
  },
  {
   "cell_type": "code",
   "execution_count": 29,
   "metadata": {
    "scrolled": true
   },
   "outputs": [
    {
     "data": {
      "text/plain": [
       "((12805, 8), (3202, 8), (12805, 2), (3202, 2))"
      ]
     },
     "execution_count": 29,
     "metadata": {},
     "output_type": "execute_result"
    }
   ],
   "source": [
    "train_features, test_features, train_labels, test_labels = train_test_split(features, labels, test_size = 0.20, random_state = 0)\n",
    "train_features.shape, test_features.shape, train_labels.shape, test_labels.shape"
   ]
  },
  {
   "cell_type": "markdown",
   "metadata": {},
   "source": [
    "We will investigate three regressors, i.e. **Random Forest Regressor, Linear Regressor, XGBRegressor** and evaluate on three evaluation metrics, i.e. **Mean Absolute Error (MAE), Mean Squared Error (MSE), MultiOutput Regression Score**."
   ]
  },
  {
   "cell_type": "markdown",
   "metadata": {},
   "source": [
    "## MultiOutputRegressor Regression #01- Random Forest Regressor\n",
    "---\n",
    "First I am using Random Forest Regressor from scikit-learn in MultioutputRegressor module. **Score1** and **Score2** will be the target labels. Evaluation will be based on AME, MSE, Score as written above."
   ]
  },
  {
   "cell_type": "code",
   "execution_count": 30,
   "metadata": {
    "scrolled": false
   },
   "outputs": [
    {
     "name": "stdout",
     "output_type": "stream",
     "text": [
      "CPU times: user 5.14 s, sys: 48 ms, total: 5.18 s\n",
      "Wall time: 5.19 s\n"
     ]
    },
    {
     "data": {
      "text/plain": [
       "MultiOutputRegressor(estimator=RandomForestRegressor(bootstrap=True,\n",
       "                                                     criterion='mse',\n",
       "                                                     max_depth=None,\n",
       "                                                     max_features='auto',\n",
       "                                                     max_leaf_nodes=None,\n",
       "                                                     min_impurity_decrease=0.0,\n",
       "                                                     min_impurity_split=None,\n",
       "                                                     min_samples_leaf=1,\n",
       "                                                     min_samples_split=2,\n",
       "                                                     min_weight_fraction_leaf=0.0,\n",
       "                                                     n_estimators=100,\n",
       "                                                     n_jobs=None,\n",
       "                                                     oob_score=False,\n",
       "                                                     random_state=0, verbose=0,\n",
       "                                                     warm_start=False),\n",
       "                     n_jobs=None)"
      ]
     },
     "execution_count": 30,
     "metadata": {},
     "output_type": "execute_result"
    }
   ],
   "source": [
    "%%time\n",
    "\n",
    "mor = MultiOutputRegressor(RandomForestRegressor(n_estimators=100,random_state=0))\n",
    "#training process\n",
    "mor.fit (features, labels)"
   ]
  },
  {
   "cell_type": "markdown",
   "metadata": {},
   "source": [
    "Once we have trained our model, next we evaluate our model on three evalaution metrics as discussed above."
   ]
  },
  {
   "cell_type": "code",
   "execution_count": 31,
   "metadata": {},
   "outputs": [
    {
     "name": "stdout",
     "output_type": "stream",
     "text": [
      "MAE: 4.54832675696375\n",
      "MSE: 36.48255827784976\n",
      "Multi Target Output Random Forest Based Regressor Score: 0.701\n"
     ]
    }
   ],
   "source": [
    "\n",
    "print('MAE:',mean_absolute_error(mor.predict(test_features), test_labels))\n",
    "print('MSE:',mean_squared_error(mor.predict(test_features), test_labels))\n",
    "print ('Multi Target Output Random Forest Based Regressor Score:', round (mor.score (test_features, test_labels), 3))"
   ]
  },
  {
   "cell_type": "markdown",
   "metadata": {},
   "source": [
    "It appears that Random Forest based MultiOutputRegressor is giveng pretty reasonable results."
   ]
  },
  {
   "cell_type": "markdown",
   "metadata": {},
   "source": [
    "## MultiOutputRegressor Regression #02- XGBoost Regressor\n",
    "---\n",
    "Next, we train and evaluate the XGBoost Regressor from scikit-learn in MultioutputRegressor module."
   ]
  },
  {
   "cell_type": "code",
   "execution_count": 32,
   "metadata": {
    "scrolled": true
   },
   "outputs": [
    {
     "name": "stdout",
     "output_type": "stream",
     "text": [
      "[21:32:14] WARNING: /workspace/src/objective/regression_obj.cu:152: reg:linear is now deprecated in favor of reg:squarederror.\n",
      "[21:32:15] WARNING: /workspace/src/objective/regression_obj.cu:152: reg:linear is now deprecated in favor of reg:squarederror.\n",
      "CPU times: user 1.02 s, sys: 12 ms, total: 1.03 s\n",
      "Wall time: 1.03 s\n"
     ]
    },
    {
     "data": {
      "text/plain": [
       "MultiOutputRegressor(estimator=XGBRegressor(alpha=10, base_score=0.5,\n",
       "                                            booster='gbtree',\n",
       "                                            colsample_bylevel=1,\n",
       "                                            colsample_bynode=1,\n",
       "                                            colsample_bytree=0.3, gamma=0,\n",
       "                                            importance_type='gain',\n",
       "                                            learning_rate=0.1, max_delta_step=0,\n",
       "                                            max_depth=5, min_child_weight=1,\n",
       "                                            missing=None, n_estimators=100,\n",
       "                                            n_jobs=1, nthread=None,\n",
       "                                            objective='reg:linear',\n",
       "                                            random_state=0, reg_alpha=0,\n",
       "                                            reg_lambda=1, scale_pos_weight=1,\n",
       "                                            seed=None, silent=None, subsample=1,\n",
       "                                            verbosity=1),\n",
       "                     n_jobs=None)"
      ]
     },
     "execution_count": 32,
     "metadata": {},
     "output_type": "execute_result"
    }
   ],
   "source": [
    "%%time\n",
    "\n",
    "mor = MultiOutputRegressor(XGBRegressor(objective ='reg:linear', colsample_bytree = 0.3, learning_rate = 0.1,max_depth = 5, alpha = 10, n_estimators = 100))\n",
    "#training process\n",
    "mor.fit (features, labels)"
   ]
  },
  {
   "cell_type": "markdown",
   "metadata": {},
   "source": [
    "Once we have trained our model, next we evaluate our model on three evalaution metrics as discussed above."
   ]
  },
  {
   "cell_type": "code",
   "execution_count": 33,
   "metadata": {},
   "outputs": [
    {
     "name": "stdout",
     "output_type": "stream",
     "text": [
      "MAE: 6.956283390349816\n",
      "MSE: 77.05458382962796\n",
      "Multi Target Output XGBoost based Regressor Score: 0.37\n"
     ]
    }
   ],
   "source": [
    "\n",
    "print('MAE:',mean_absolute_error(mor.predict(test_features), test_labels))\n",
    "print('MSE:',mean_squared_error(mor.predict(test_features), test_labels))\n",
    "print ('Multi Target Output XGBoost based Regressor Score:', round (mor.score (test_features, test_labels), 3))"
   ]
  },
  {
   "cell_type": "markdown",
   "metadata": {},
   "source": [
    "It appears that XGBoost based MultiOutputRegressor is giveng pretty reasonable results but worse than Random Forest based MultioutputRegressor."
   ]
  },
  {
   "cell_type": "markdown",
   "metadata": {},
   "source": [
    "## MultiOutputRegressor Regression #03 - Linear Regressor\n",
    "---\n",
    "Next, we train and evaluate the Linear Regressor from scikit-learn in MultioutputRegressor module."
   ]
  },
  {
   "cell_type": "code",
   "execution_count": 34,
   "metadata": {
    "scrolled": true
   },
   "outputs": [
    {
     "name": "stdout",
     "output_type": "stream",
     "text": [
      "CPU times: user 6.84 ms, sys: 8 µs, total: 6.85 ms\n",
      "Wall time: 5.21 ms\n"
     ]
    },
    {
     "data": {
      "text/plain": [
       "LinearRegression(copy_X=True, fit_intercept=True, n_jobs=None, normalize=False)"
      ]
     },
     "execution_count": 34,
     "metadata": {},
     "output_type": "execute_result"
    }
   ],
   "source": [
    "%%time\n",
    "\n",
    "mor = LinearRegression()\n",
    "#training process\n",
    "mor.fit (features, labels)"
   ]
  },
  {
   "cell_type": "markdown",
   "metadata": {},
   "source": [
    "Once we have trained our model, next we evaluate our model on three evalaution metrics as discussed above."
   ]
  },
  {
   "cell_type": "code",
   "execution_count": 35,
   "metadata": {},
   "outputs": [
    {
     "name": "stdout",
     "output_type": "stream",
     "text": [
      "MAE: 7.233133556966823\n",
      "MSE: 82.39727180323428\n",
      "Multi Target Output Linear Regressor Score: 0.326\n"
     ]
    },
    {
     "name": "stderr",
     "output_type": "stream",
     "text": [
      "/home/usman/.local/lib/python3.5/site-packages/sklearn/base.py:420: FutureWarning: The default value of multioutput (not exposed in score method) will change from 'variance_weighted' to 'uniform_average' in 0.23 to keep consistent with 'metrics.r2_score'. To specify the default value manually and avoid the warning, please either call 'metrics.r2_score' directly or make a custom scorer with 'metrics.make_scorer' (the built-in scorer 'r2' uses multioutput='uniform_average').\n",
      "  \"multioutput='uniform_average').\", FutureWarning)\n"
     ]
    }
   ],
   "source": [
    "\n",
    "print('MAE:',mean_absolute_error(mor.predict(test_features), test_labels))\n",
    "print('MSE:',mean_squared_error(mor.predict(test_features), test_labels))\n",
    "print ('Multi Target Output Linear Regressor Score:', round (mor.score (test_features, test_labels), 3))"
   ]
  },
  {
   "cell_type": "markdown",
   "metadata": {},
   "source": [
    "It appears that Linear Rgressor based MultiOutputRegressor is giving pretty reasonable results but worse than previous two methods."
   ]
  },
  {
   "cell_type": "markdown",
   "metadata": {},
   "source": [
    "## Conclusion\n",
    "This assignment was about applying regression to output scores for two playing teams. After training and evaluating three regression models (Random Forest, XGBoost, Linear Regressor), in MultiouputRegressor mode, we found that Random Forest based approach performs the best on all three evaluation metrics (**Mean Absolute Error (MAE):4.54832675696375, Mean Squared Error:36.48255827784976, Regression Score:0.701**). Feature Engineering, including combining and removing different features, also played an important role in improving the overall effectiveness of the system."
   ]
  },
  {
   "cell_type": "markdown",
   "metadata": {},
   "source": [
    "---\n",
    "## Reference Notes\n",
    "The 'streaks and history' idea and some of the code used in the Feature Engineering part was based on the following link (which was mentioned in the lecture slides for Course Regression lecture # 04)\n",
    "\n",
    "> https://www.kaggle.com/airback/match-outcome-prediction-in-football"
   ]
  },
  {
   "cell_type": "code",
   "execution_count": null,
   "metadata": {},
   "outputs": [],
   "source": []
  }
 ],
 "metadata": {
  "anaconda-cloud": {},
  "kernelspec": {
   "display_name": "Python 2",
   "language": "python",
   "name": "python2"
  },
  "language_info": {
   "codemirror_mode": {
    "name": "ipython",
    "version": 3
   },
   "file_extension": ".py",
   "mimetype": "text/x-python",
   "name": "python",
   "nbconvert_exporter": "python",
   "pygments_lexer": "ipython3",
   "version": "3.5.2"
  }
 },
 "nbformat": 4,
 "nbformat_minor": 1
}
